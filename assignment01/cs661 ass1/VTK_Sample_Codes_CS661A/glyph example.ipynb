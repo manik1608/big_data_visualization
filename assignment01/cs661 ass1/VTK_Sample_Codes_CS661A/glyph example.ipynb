{
 "cells": [
  {
   "cell_type": "code",
   "execution_count": 9,
   "id": "63658616",
   "metadata": {},
   "outputs": [],
   "source": [
    "import vtk\n",
    "\n",
    "# Create a vtkPoints object to hold the point data\n",
    "points = vtk.vtkPoints()\n",
    "points.InsertNextPoint(1.0, 2.0, 3.0)\n",
    "points.InsertNextPoint(4.0, 5.0, 6.0)\n",
    "\n",
    "# Create a vtkPolyData object to hold the points\n",
    "polydata = vtk.vtkPolyData()\n",
    "polydata.SetPoints(points)\n",
    "\n",
    "# Create the vtkVertexGlyphFilter object\n",
    "glyphFilter = vtk.vtkVertexGlyphFilter()\n",
    "glyphFilter.SetInputData(polydata)\n",
    "# Update the filter to generate the vertex glyphs\n",
    "glyphFilter.Update()\n",
    "\n",
    "# Get the output data\n",
    "glyphData = glyphFilter.GetOutput()\n",
    "\n",
    "# Create a vtkPolyDataMapper object to map the vertex glyphs to the render window\n",
    "mapper = vtk.vtkPolyDataMapper()\n",
    "mapper.SetInputData(glyphData)\n",
    "\n",
    "# Create a vtkActor object to hold the vertex glyphs\n",
    "actor = vtk.vtkActor()\n",
    "actor.SetMapper(mapper)\n",
    "\n",
    "# Create a vtkRenderer object to render the vertex glyphs\n",
    "renderer = vtk.vtkRenderer()\n",
    "renderer.AddActor(actor)\n",
    "\n",
    "# Create a vtkRenderWindow to display the vertex glyphs\n",
    "renderWindow = vtk.vtkRenderWindow()\n",
    "renderWindow.AddRenderer(renderer)\n",
    "\n",
    "# Create a vtkRenderWindowInteractor to interact with the render window\n",
    "interactor = vtk.vtkRenderWindowInteractor()\n",
    "interactor.SetRenderWindow(renderWindow)\n",
    "\n",
    "# Start the interaction\n",
    "interactor.Initialize()\n",
    "interactor.Start()\n"
   ]
  },
  {
   "cell_type": "code",
   "execution_count": null,
   "id": "4526e787",
   "metadata": {},
   "outputs": [],
   "source": []
  }
 ],
 "metadata": {
  "kernelspec": {
   "display_name": "Python 3 (ipykernel)",
   "language": "python",
   "name": "python3"
  },
  "language_info": {
   "codemirror_mode": {
    "name": "ipython",
    "version": 3
   },
   "file_extension": ".py",
   "mimetype": "text/x-python",
   "name": "python",
   "nbconvert_exporter": "python",
   "pygments_lexer": "ipython3",
   "version": "3.9.13"
  }
 },
 "nbformat": 4,
 "nbformat_minor": 5
}
